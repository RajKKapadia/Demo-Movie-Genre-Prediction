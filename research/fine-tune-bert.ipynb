{
 "cells": [
  {
   "cell_type": "code",
   "execution_count": null,
   "metadata": {},
   "outputs": [],
   "source": [
    "import numpy as np\n",
    "import pandas as pd\n",
    "import torch\n",
    "from sklearn import metrics\n",
    "from transformers import AutoTokenizer, AutoModelForSequenceClassification, Trainer, TrainingArguments\n",
    "from datasets import load_from_disk"
   ]
  },
  {
   "cell_type": "code",
   "execution_count": null,
   "metadata": {},
   "outputs": [],
   "source": [
    "attempt = 4"
   ]
  },
  {
   "cell_type": "code",
   "execution_count": null,
   "metadata": {},
   "outputs": [],
   "source": [
    "data = load_from_disk('cleaned_data/')\n",
    "\n",
    "data = data.class_encode_column('genre')\n",
    "\n",
    "data['train'][0]"
   ]
  },
  {
   "cell_type": "code",
   "execution_count": null,
   "metadata": {},
   "outputs": [],
   "source": [
    "device = 'cuda' if torch.cuda.is_available() else 'cpu'\n",
    "print(device)\n",
    "\n",
    "tokenizer = AutoTokenizer.from_pretrained(\"bert-base-uncased/\", use_fast=True, do_lower_case=True)\n",
    "model = AutoModelForSequenceClassification.from_pretrained(\n",
    "    \"bert-base-uncased/\",\n",
    "    num_labels=len(data['train'].features[\"genre\"]._int2str),\n",
    ").to(device)"
   ]
  },
  {
   "cell_type": "code",
   "execution_count": null,
   "metadata": {},
   "outputs": [],
   "source": [
    "max_len = 0\n",
    "\n",
    "for example in data['train']:\n",
    "    input_ids = tokenizer.encode(example['final_text'], add_special_tokens=True)\n",
    "    max_len = max(max_len, len(input_ids))\n",
    "\n",
    "print(f'Max sentence len - {max_len}')"
   ]
  },
  {
   "cell_type": "code",
   "execution_count": null,
   "metadata": {},
   "outputs": [],
   "source": [
    "class ClassificationDataset:\n",
    "    def __init__(self, data, tokenizer):\n",
    "        self.data = data\n",
    "        self.tokenizer = tokenizer\n",
    "\n",
    "    def __len__(self):\n",
    "        return len(self.data)\n",
    "\n",
    "    def __getitem__(self, item):\n",
    "        text = str(self.data[item][\"final_text\"])\n",
    "        target = int(self.data[item][\"genre\"])\n",
    "        inputs = self.tokenizer(text, max_length=max_len, padding=\"max_length\", truncation=True)\n",
    "\n",
    "        ids = inputs[\"input_ids\"]\n",
    "        mask = inputs[\"attention_mask\"]\n",
    "\n",
    "        return {\n",
    "            \"input_ids\": torch.tensor(ids, dtype=torch.long).to(device),\n",
    "            \"attention_mask\": torch.tensor(mask, dtype=torch.long).to(device),\n",
    "            \"labels\": torch.tensor(target, dtype=torch.long).to(device),\n",
    "        }\n",
    "\n",
    "\n",
    "def compute_metrics(eval_pred):\n",
    "    predictions, labels = eval_pred\n",
    "    predictions = np.argmax(predictions, axis=1)\n",
    "    accuracy = metrics.accuracy_score(labels, predictions)\n",
    "    return {\"accuracy\": accuracy}\n",
    "\n",
    "\n",
    "def train(ds):\n",
    "    ds_train = ds[\"train\"]\n",
    "    ds_test = ds[\"test\"]\n",
    "\n",
    "    temp_ds = ds_train.train_test_split(test_size=0.1, stratify_by_column=\"genre\")\n",
    "    ds_train = temp_ds[\"train\"]\n",
    "    ds_val = temp_ds[\"test\"]\n",
    "\n",
    "    train_dataset = ClassificationDataset(ds_train, tokenizer)\n",
    "    valid_dataset = ClassificationDataset(ds_val, tokenizer)\n",
    "    test_dataset = ClassificationDataset(ds_test, tokenizer)\n",
    "\n",
    "    args = TrainingArguments(\n",
    "        \"model\",\n",
    "        evaluation_strategy=\"epoch\",\n",
    "        save_strategy=\"epoch\",\n",
    "        per_device_train_batch_size=8,\n",
    "        per_device_eval_batch_size=8,\n",
    "        num_train_epochs=1,\n",
    "        load_best_model_at_end=True,\n",
    "        metric_for_best_model=\"accuracy\",\n",
    "        report_to=\"none\",\n",
    "        save_total_limit=1\n",
    "    )\n",
    "\n",
    "    trainer = Trainer(\n",
    "        model,\n",
    "        args,\n",
    "        train_dataset=train_dataset,\n",
    "        eval_dataset=valid_dataset,\n",
    "        tokenizer=tokenizer,\n",
    "        compute_metrics=compute_metrics,\n",
    "    )\n",
    "\n",
    "    trainer.train()\n",
    "    preds = trainer.predict(test_dataset).predictions\n",
    "    preds = np.argmax(preds, axis=1)\n",
    "\n",
    "    # generate submission file\n",
    "    submission = pd.DataFrame({\"id\": ds_test[\"id\"], \"genre\": preds})\n",
    "    submission.loc[:, \"genre\"] = submission.genre.apply(lambda x: ds_train.features[\"genre\"].int2str(x))\n",
    "    submission.to_csv(f\"submission_{attempt}.csv\", index=False)\n"
   ]
  },
  {
   "cell_type": "code",
   "execution_count": null,
   "metadata": {},
   "outputs": [],
   "source": [
    "train(data)"
   ]
  },
  {
   "cell_type": "code",
   "execution_count": null,
   "metadata": {},
   "outputs": [],
   "source": []
  }
 ],
 "metadata": {
  "kernelspec": {
   "display_name": "venv",
   "language": "python",
   "name": "python3"
  },
  "language_info": {
   "codemirror_mode": {
    "name": "ipython",
    "version": 3
   },
   "file_extension": ".py",
   "mimetype": "text/x-python",
   "name": "python",
   "nbconvert_exporter": "python",
   "pygments_lexer": "ipython3",
   "version": "3.9.12"
  },
  "orig_nbformat": 4
 },
 "nbformat": 4,
 "nbformat_minor": 2
}
