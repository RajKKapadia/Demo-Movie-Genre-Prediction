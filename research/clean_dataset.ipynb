{
 "cells": [
  {
   "cell_type": "code",
   "execution_count": null,
   "metadata": {},
   "outputs": [],
   "source": [
    "from datasets import load_dataset\n",
    "\n",
    "data = load_dataset(\n",
    "    'parquet',\n",
    "    data_files={\n",
    "        'train': 'movie-dataset/data/train-00000-of-00001-b943ea66e0040b18.parquet',\n",
    "        'test': 'movie-dataset/data/test-00000-of-00001-35e9a9274361daed.parquet'\n",
    "    },\n",
    "    cache_dir='movie-dataset/data'\n",
    ")\n",
    "\n",
    "def clean_text(text: str):\n",
    "    text = text.lower()\n",
    "    text = text.strip()\n",
    "    return text\n",
    "\n",
    "def create_input(example: dict) -> str:\n",
    "    movie_name = example[\"movie_name\"].lower()\n",
    "    synopsis = example[\"synopsis\"].lower()\n",
    "\n",
    "    movie_name = clean_text(movie_name)\n",
    "    synopsis = clean_text(synopsis)\n",
    "\n",
    "    example['final_text'] = f'movie name - {movie_name}, synopsis - {synopsis}.'\n",
    "    return example\n",
    "\n",
    "data = data.map(create_input)\n",
    "\n",
    "data.save_to_disk('cleaned_data/')"
   ]
  }
 ],
 "metadata": {
  "kernelspec": {
   "display_name": "venv",
   "language": "python",
   "name": "python3"
  },
  "language_info": {
   "name": "python",
   "version": "3.9.12"
  },
  "orig_nbformat": 4
 },
 "nbformat": 4,
 "nbformat_minor": 2
}
